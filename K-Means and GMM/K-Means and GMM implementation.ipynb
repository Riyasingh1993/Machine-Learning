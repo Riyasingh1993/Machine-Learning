{
 "cells": [
  {
   "cell_type": "code",
   "execution_count": 1,
   "metadata": {
    "id": "qrgWXJiGcAXH"
   },
   "outputs": [],
   "source": [
    "\n",
    "from scipy.stats import mode\n",
    "from sklearn.metrics import confusion_matrix\n",
    "import matplotlib.pyplot as plt\n",
    "from sklearn.datasets import load_iris\n",
    "import numpy as np\n",
    "import pandas as pd\n",
    "import seaborn as sb\n",
    "import random as rand\n",
    "from sklearn.model_selection import train_test_split\n",
    "iris = load_iris()\n",
    "X = iris.data"
   ]
  },
  {
   "cell_type": "code",
   "execution_count": 2,
   "metadata": {
    "colab": {
     "base_uri": "https://localhost:8080/",
     "height": 206
    },
    "id": "PCvf5c5ycGAq",
    "outputId": "536897b6-75c2-45b4-b47c-b2075e22a864"
   },
   "outputs": [
    {
     "data": {
      "text/html": [
       "<div>\n",
       "<style scoped>\n",
       "    .dataframe tbody tr th:only-of-type {\n",
       "        vertical-align: middle;\n",
       "    }\n",
       "\n",
       "    .dataframe tbody tr th {\n",
       "        vertical-align: top;\n",
       "    }\n",
       "\n",
       "    .dataframe thead th {\n",
       "        text-align: right;\n",
       "    }\n",
       "</style>\n",
       "<table border=\"1\" class=\"dataframe\">\n",
       "  <thead>\n",
       "    <tr style=\"text-align: right;\">\n",
       "      <th></th>\n",
       "      <th>Sepal Length</th>\n",
       "      <th>Sepal Width</th>\n",
       "      <th>Petal Length</th>\n",
       "      <th>Petal Width</th>\n",
       "    </tr>\n",
       "  </thead>\n",
       "  <tbody>\n",
       "    <tr>\n",
       "      <th>0</th>\n",
       "      <td>5.1</td>\n",
       "      <td>3.5</td>\n",
       "      <td>1.4</td>\n",
       "      <td>0.2</td>\n",
       "    </tr>\n",
       "    <tr>\n",
       "      <th>1</th>\n",
       "      <td>4.9</td>\n",
       "      <td>3.0</td>\n",
       "      <td>1.4</td>\n",
       "      <td>0.2</td>\n",
       "    </tr>\n",
       "    <tr>\n",
       "      <th>2</th>\n",
       "      <td>4.7</td>\n",
       "      <td>3.2</td>\n",
       "      <td>1.3</td>\n",
       "      <td>0.2</td>\n",
       "    </tr>\n",
       "    <tr>\n",
       "      <th>3</th>\n",
       "      <td>4.6</td>\n",
       "      <td>3.1</td>\n",
       "      <td>1.5</td>\n",
       "      <td>0.2</td>\n",
       "    </tr>\n",
       "    <tr>\n",
       "      <th>4</th>\n",
       "      <td>5.0</td>\n",
       "      <td>3.6</td>\n",
       "      <td>1.4</td>\n",
       "      <td>0.2</td>\n",
       "    </tr>\n",
       "  </tbody>\n",
       "</table>\n",
       "</div>"
      ],
      "text/plain": [
       "   Sepal Length  Sepal Width  Petal Length  Petal Width\n",
       "0           5.1          3.5           1.4          0.2\n",
       "1           4.9          3.0           1.4          0.2\n",
       "2           4.7          3.2           1.3          0.2\n",
       "3           4.6          3.1           1.5          0.2\n",
       "4           5.0          3.6           1.4          0.2"
      ]
     },
     "execution_count": 2,
     "metadata": {},
     "output_type": "execute_result"
    }
   ],
   "source": [
    "# convert numpy array to DataFrame\n",
    "import pandas as pd\n",
    "Y = pd.DataFrame(X, columns = ['Sepal Length','Sepal Width','Petal Length','Petal Width'])\n",
    "Y.head()"
   ]
  },
  {
   "cell_type": "code",
   "execution_count": 3,
   "metadata": {
    "id": "gaDg2u7bcJET"
   },
   "outputs": [],
   "source": [
    "all_vals = Y.values.tolist()"
   ]
  },
  {
   "cell_type": "markdown",
   "metadata": {},
   "source": [
    "## K Means"
   ]
  },
  {
   "cell_type": "code",
   "execution_count": 4,
   "metadata": {
    "id": "N3JfJYJMcLoS"
   },
   "outputs": [],
   "source": [
    "def random_centroids(all_vals, K):    \n",
    "    centroids = []\n",
    "    #Place K centroids at random locations\n",
    "    for i in range(K):\n",
    "        centroid = all_vals[rand.randint(0, 149)]\n",
    "        centroids.append(centroid)\n",
    "    return centroids"
   ]
  },
  {
   "cell_type": "code",
   "execution_count": 5,
   "metadata": {
    "id": "KlKQU6QLcO8_"
   },
   "outputs": [],
   "source": [
    "def assign_cluster(all_vals, centroids):\n",
    "    assignments = []\n",
    "\n",
    "    for data_point in all_vals:\n",
    "        dist_point_clust = []\n",
    "\n",
    "        for centroid in centroids:\n",
    "            d_clust = np.linalg.norm(np.array(data_point) - np.array(centroid))\n",
    "            dist_point_clust.append(d_clust)\n",
    "        \n",
    "        assignment = np.argmin(dist_point_clust)\n",
    "        assignments.append(assignment)\n",
    "\n",
    "    return assignments"
   ]
  },
  {
   "cell_type": "code",
   "execution_count": 6,
   "metadata": {
    "id": "Cr2iaG_LcRdk"
   },
   "outputs": [],
   "source": [
    "def new_centroids(all_vals, centroids, assignments, K):\n",
    "    new_centroids = []\n",
    "    for i in range(K):\n",
    "        pt_cluster = []\n",
    "        for x in range(len(all_vals)):\n",
    "                if (assignments[x] == i):\n",
    "                    pt_cluster.append(all_vals[x])\n",
    "        mean_c = np.mean(pt_cluster, axis=0)\n",
    "        new_centroids.append(mean_c)\n",
    "\n",
    "    return new_centroids"
   ]
  },
  {
   "cell_type": "code",
   "execution_count": 7,
   "metadata": {
    "id": "seT-XiTecSdM"
   },
   "outputs": [],
   "source": [
    "def sse(all_vals, assignments, centroids):\n",
    "    errors = []\n",
    "    \n",
    "    for i in range(len(all_vals)):\n",
    "        #get assigned centroid for each point\n",
    "        centroid = centroids[assignments[i]]\n",
    "    \n",
    "        #compute the distance (error) between one point and its closest centroid\n",
    "        error = np.linalg.norm(np.array(all_vals[i]) - np.array(centroid))\n",
    "        \n",
    "        #append squared error to the list of error\n",
    "        errors.append(error**2)\n",
    "        \n",
    "    #and sum up all the errors\n",
    "    sse = sum(errors)\n",
    "    \n",
    "    return sse"
   ]
  },
  {
   "cell_type": "code",
   "execution_count": 8,
   "metadata": {
    "id": "dRWR-uK2cYZa"
   },
   "outputs": [],
   "source": [
    "def KMeans(all_vals,K,max_iter = 100, tol = pow(10,-3) ):\n",
    "    it = -1\n",
    "    all_sse = []\n",
    "    assignments = []\n",
    "    \n",
    "    #Place K centroids at random locations\n",
    "    centroids = random_centroids(all_vals, K)\n",
    "\n",
    "   \n",
    "    #Until algorithm converges\n",
    "    while (len(all_sse)<=1 or (it < max_iter and np.absolute(all_sse[it] - all_sse[it-1])/all_sse[it-1] >= tol)):\n",
    "        it += 1\n",
    "        #Assign all data points to the closest center\n",
    "        assignments = assign_cluster(all_vals, centroids)\n",
    "        \n",
    "        #Compute the new centroids\n",
    "        centroids = new_centroids(all_vals, centroids, assignments, K)\n",
    "        \n",
    "        #Compute SSE\n",
    "        sse_kmeans = sse(all_vals, assignments, centroids)\n",
    "        all_sse.append(sse_kmeans)        \n",
    "        \n",
    "     \n",
    "    return (assignments, centroids, all_sse, it)"
   ]
  },
  {
   "cell_type": "code",
   "execution_count": 9,
   "metadata": {
    "id": "XS6Ev8nncbkE"
   },
   "outputs": [],
   "source": [
    "import random as rand\n",
    "result = KMeans(all_vals,K=3)"
   ]
  },
  {
   "cell_type": "code",
   "execution_count": 10,
   "metadata": {
    "id": "oOhOOFxucemk"
   },
   "outputs": [],
   "source": [
    "centroids_x = [result[1][x][0] for x in range(len(result[1]))] #sepal_length: [0] \n",
    "centroids_y = [result[1][x][2] for x in range(len(result[1]))] #petal_length: [2]"
   ]
  },
  {
   "cell_type": "code",
   "execution_count": 11,
   "metadata": {
    "colab": {
     "base_uri": "https://localhost:8080/"
    },
    "id": "L2XrYf-HcgjR",
    "outputId": "a02b67ef-c745-4171-ae0b-2a8bc98efd7e"
   },
   "outputs": [
    {
     "name": "stdout",
     "output_type": "stream",
     "text": [
      "[5.88360655737705, 5.005999999999999, 6.853846153846153]\n",
      "[4.388524590163935, 1.4620000000000002, 5.715384615384615]\n"
     ]
    }
   ],
   "source": [
    "print(centroids_x)\n",
    "print(centroids_y)"
   ]
  },
  {
   "cell_type": "code",
   "execution_count": 12,
   "metadata": {
    "id": "s7feNx9McmAP"
   },
   "outputs": [],
   "source": [
    "x = Y['Sepal Length']\n",
    "y = Y['Petal Length']\n",
    "assignments = result[0]"
   ]
  },
  {
   "cell_type": "code",
   "execution_count": 13,
   "metadata": {
    "colab": {
     "base_uri": "https://localhost:8080/",
     "height": 314
    },
    "id": "vEffLECecrhR",
    "outputId": "656332fc-5491-43f7-eb53-f54452fe8f7f"
   },
   "outputs": [
    {
     "data": {
      "text/plain": [
       "Text(0, 0.5, 'petal_length')"
      ]
     },
     "execution_count": 13,
     "metadata": {},
     "output_type": "execute_result"
    },
    {
     "data": {
      "image/png": "[encoded data removed]",
      "text/plain": [
       "<Figure size 432x288 with 1 Axes>"
      ]
     },
     "metadata": {
      "needs_background": "light"
     },
     "output_type": "display_data"
    }
   ],
   "source": [
    "plt.scatter(x, y, c=assignments)\n",
    "plt.plot(centroids_x,centroids_y, c='white', marker='.', linewidth='0.01', markerfacecolor='red', markersize=22)\n",
    "\n",
    "plt.title(\"K-means Visualization\")\n",
    "plt.xlabel(\"sepal_length\")\n",
    "plt.ylabel(\"petal_length\")"
   ]
  },
  {
   "cell_type": "markdown",
   "metadata": {},
   "source": [
    "## Gaussian Mixture Model"
   ]
  },
  {
   "cell_type": "code",
   "execution_count": 14,
   "metadata": {},
   "outputs": [],
   "source": [
    "def gaussian(X, mu, cov):\n",
    "    n = X.shape[1]\n",
    "    diff = (X - mu).T\n",
    "    return np.diagonal(1 / ((2 * np.pi) ** (n / 2) * np.linalg.det(cov) ** 0.5) * np.exp(-0.5 * np.dot(np.dot(diff.T, np.linalg.inv(cov)), diff))).reshape(-1, 1)\n",
    "from sklearn.cluster import KMeans"
   ]
  },
  {
   "cell_type": "code",
   "execution_count": 15,
   "metadata": {},
   "outputs": [
    {
     "data": {
      "text/plain": [
       "array([[0.00159853],\n",
       "       [0.00481869],\n",
       "       [0.00276259],\n",
       "       [0.0014309 ],\n",
       "       [0.00143998]])"
      ]
     },
     "execution_count": 15,
     "metadata": {},
     "output_type": "execute_result"
    }
   ],
   "source": [
    "x0 = np.array([[0.05, 1.413, 0.212], [0.85, -0.3, 1.11], [11.1, 0.4, 1.5], [0.27, 0.12, 1.44], [88, 12.33, 1.44]])\n",
    "mu = np.mean(x0, axis=0)\n",
    "cov = np.dot((x0 - mu).T, x0 - mu) / (x0.shape[0] - 1)\n",
    "\n",
    "y = gaussian(x0, mu=mu, cov=cov)\n",
    "y"
   ]
  },
  {
   "cell_type": "code",
   "execution_count": 16,
   "metadata": {},
   "outputs": [],
   "source": [
    "def initialize_clusters(X, n_clusters):\n",
    "    clusters = []\n",
    "    idx = np.arange(X.shape[0])\n",
    "    \n",
    "    # We use the KMeans centroids to initialise the GMM\n",
    "    \n",
    "    kmeans = KMeans(n_clusters).fit(X)\n",
    "    mu_k = kmeans.cluster_centers_\n",
    "    \n",
    "    for i in range(n_clusters):\n",
    "        clusters.append({\n",
    "            'pi_k': 1.0 / n_clusters,\n",
    "            'mu_k': mu_k[i],\n",
    "            'cov_k': np.identity(X.shape[1], dtype=np.float64)\n",
    "        })\n",
    "        \n",
    "    return clusters"
   ]
  },
  {
   "cell_type": "code",
   "execution_count": 17,
   "metadata": {},
   "outputs": [],
   "source": [
    "def expectation_step(X, clusters):\n",
    "    global gamma_nk, totals\n",
    "    N = X.shape[0]\n",
    "    K = len(clusters)\n",
    "    totals = np.zeros((N, 1), dtype=np.float64)\n",
    "    gamma_nk = np.zeros((N, K), dtype=np.float64)\n",
    "    \n",
    "    for k, cluster in enumerate(clusters):\n",
    "        pi_k = cluster['pi_k']\n",
    "        mu_k = cluster['mu_k']\n",
    "        cov_k = cluster['cov_k']\n",
    "    \n",
    "        gamma_nk[:, k] = (pi_k * gaussian(X, mu_k, cov_k)).ravel()\n",
    "    \n",
    "    totals = np.sum(gamma_nk, 1)\n",
    "    gamma_nk /= np.expand_dims(totals, 1)"
   ]
  },
  {
   "cell_type": "code",
   "execution_count": 18,
   "metadata": {},
   "outputs": [],
   "source": [
    "def maximization_step(X, clusters):\n",
    "    global gamma_nk\n",
    "    N = float(X.shape[0])\n",
    "  \n",
    "    for k, cluster in enumerate(clusters):\n",
    "        gamma_k = np.expand_dims(gamma_nk[:, k], 1)\n",
    "        N_k = np.sum(gamma_k, axis=0)\n",
    "        \n",
    "        pi_k = N_k / N\n",
    "        mu_k = np.sum(gamma_k * X, axis=0) / N_k\n",
    "        cov_k = (gamma_k * (X - mu_k)).T @ (X - mu_k) / N_k\n",
    "        \n",
    "        cluster['pi_k'] = pi_k\n",
    "        cluster['mu_k'] = mu_k\n",
    "        cluster['cov_k'] = cov_k"
   ]
  },
  {
   "cell_type": "code",
   "execution_count": 19,
   "metadata": {},
   "outputs": [],
   "source": [
    "def get_likelihood(X, clusters):\n",
    "    global gamma_nk, totals\n",
    "    sample_likelihoods = np.log(totals)\n",
    "    return np.sum(sample_likelihoods), sample_likelihoods"
   ]
  },
  {
   "cell_type": "code",
   "execution_count": 20,
   "metadata": {},
   "outputs": [],
   "source": [
    "def train_gmm(X, n_clusters, n_epochs):\n",
    "    clusters = initialize_clusters(X, n_clusters)\n",
    "    likelihoods = np.zeros((n_epochs, ))\n",
    "    scores = np.zeros((X.shape[0], n_clusters))\n",
    "    history = []\n",
    "\n",
    "    for i in range(n_epochs):\n",
    "        clusters_snapshot = []\n",
    "        \n",
    "        # This is just for our later use in the graphs\n",
    "        for cluster in clusters:\n",
    "            clusters_snapshot.append({\n",
    "                'mu_k': cluster['mu_k'].copy(),\n",
    "                'cov_k': cluster['cov_k'].copy()\n",
    "            })\n",
    "            \n",
    "        history.append(clusters_snapshot)\n",
    "      \n",
    "        expectation_step(X, clusters)\n",
    "        maximization_step(X, clusters)\n",
    "\n",
    "        likelihood, sample_likelihoods = get_likelihood(X, clusters)\n",
    "        likelihoods[i] = likelihood\n",
    "\n",
    "        print('Epoch: ', i + 1, 'Likelihood: ', likelihood)\n",
    "\n",
    "    scores = np.log(gamma_nk)\n",
    "    \n",
    "    return clusters, likelihoods, scores, sample_likelihoods, history"
   ]
  },
  {
   "cell_type": "markdown",
   "metadata": {},
   "source": [
    "### Train model"
   ]
  },
  {
   "cell_type": "code",
   "execution_count": 21,
   "metadata": {},
   "outputs": [
    {
     "name": "stdout",
     "output_type": "stream",
     "text": [
      "Epoch:  1 Likelihood:  -727.7880991223876\n",
      "Epoch:  2 Likelihood:  -229.3310206629975\n",
      "Epoch:  3 Likelihood:  -199.74812877963763\n",
      "Epoch:  4 Likelihood:  -195.73888520322583\n",
      "Epoch:  5 Likelihood:  -192.39610102342954\n",
      "Epoch:  6 Likelihood:  -189.9948025598058\n",
      "Epoch:  7 Likelihood:  -188.36696982597576\n",
      "Epoch:  8 Likelihood:  -187.12218440393465\n",
      "Epoch:  9 Likelihood:  -185.96888273961312\n",
      "Epoch:  10 Likelihood:  -184.90274085547034\n",
      "Epoch:  11 Likelihood:  -183.96159641602344\n",
      "Epoch:  12 Likelihood:  -183.1229996094662\n",
      "Epoch:  13 Likelihood:  -182.42175149358576\n",
      "Epoch:  14 Likelihood:  -181.85314289768115\n",
      "Epoch:  15 Likelihood:  -181.27453302608748\n",
      "Epoch:  16 Likelihood:  -180.67059402382148\n",
      "Epoch:  17 Likelihood:  -180.34032123839054\n",
      "Epoch:  18 Likelihood:  -180.23332341934025\n",
      "Epoch:  19 Likelihood:  -180.20041209371257\n",
      "Epoch:  20 Likelihood:  -180.19017245247898\n",
      "Epoch:  21 Likelihood:  -180.18696259547227\n",
      "Epoch:  22 Likelihood:  -180.18594920021093\n",
      "Epoch:  23 Likelihood:  -180.1856275629949\n",
      "Epoch:  24 Likelihood:  -180.18552514337958\n",
      "Epoch:  25 Likelihood:  -180.18549246812694\n",
      "Epoch:  26 Likelihood:  -180.18548203275668\n",
      "Epoch:  27 Likelihood:  -180.1854786981494\n",
      "Epoch:  28 Likelihood:  -180.18547763224754\n",
      "Epoch:  29 Likelihood:  -180.18547729147537\n",
      "Epoch:  30 Likelihood:  -180.18547718251898\n",
      "Epoch:  31 Likelihood:  -180.18547714768022\n",
      "Epoch:  32 Likelihood:  -180.18547713654016\n",
      "Epoch:  33 Likelihood:  -180.18547713297798\n",
      "Epoch:  34 Likelihood:  -180.1854771318388\n",
      "Epoch:  35 Likelihood:  -180.18547713147467\n",
      "Epoch:  36 Likelihood:  -180.18547713135808\n",
      "Epoch:  37 Likelihood:  -180.18547713132085\n",
      "Epoch:  38 Likelihood:  -180.18547713130903\n",
      "Epoch:  39 Likelihood:  -180.18547713130516\n",
      "Epoch:  40 Likelihood:  -180.185477131304\n",
      "Epoch:  41 Likelihood:  -180.1854771313036\n",
      "Epoch:  42 Likelihood:  -180.18547713130351\n",
      "Epoch:  43 Likelihood:  -180.18547713130346\n",
      "Epoch:  44 Likelihood:  -180.18547713130343\n",
      "Epoch:  45 Likelihood:  -180.18547713130343\n",
      "Epoch:  46 Likelihood:  -180.1854771313034\n",
      "Epoch:  47 Likelihood:  -180.18547713130346\n",
      "Epoch:  48 Likelihood:  -180.1854771313034\n",
      "Epoch:  49 Likelihood:  -180.1854771313034\n",
      "Epoch:  50 Likelihood:  -180.18547713130343\n"
     ]
    }
   ],
   "source": [
    "n_clusters = 3\n",
    "n_epochs = 50\n",
    "\n",
    "clusters, likelihoods, scores, sample_likelihoods, history = train_gmm(X, n_clusters, n_epochs)"
   ]
  },
  {
   "cell_type": "code",
   "execution_count": 22,
   "metadata": {},
   "outputs": [
    {
     "data": {
      "image/png": "[encoded data removed]",
      "text/plain": [
       "<Figure size 720x720 with 1 Axes>"
      ]
     },
     "metadata": {
      "needs_background": "light"
     },
     "output_type": "display_data"
    }
   ],
   "source": [
    "plt.figure(figsize=(10, 10))\n",
    "plt.title('Log-Likelihood')\n",
    "plt.plot(np.arange(1, n_epochs + 1), likelihoods)\n",
    "plt.show()"
   ]
  },
  {
   "cell_type": "code",
   "execution_count": 23,
   "metadata": {},
   "outputs": [
    {
     "data": {
      "image/png": "[encoded data removed]",
      "text/plain": [
       "<Figure size 720x720 with 1 Axes>"
      ]
     },
     "metadata": {
      "needs_background": "light"
     },
     "output_type": "display_data"
    }
   ],
   "source": [
    "import matplotlib.colors as colors\n",
    "from matplotlib.patches import Ellipse\n",
    "import imageio\n",
    "import matplotlib.animation as ani\n",
    "import matplotlib.cm as cmx\n",
    "from PIL import Image\n",
    "def create_cluster_animation(X, history, scores):\n",
    "    fig, ax = plt.subplots(1, 1, figsize=(10, 10))\n",
    "    colorset = ['blue', 'red', 'black']\n",
    "    images = []\n",
    "    \n",
    "    for j, clusters in enumerate(history):\n",
    "      \n",
    "        idx = 0\n",
    "      \n",
    "        if j % 3 != 0:\n",
    "            continue\n",
    "        \n",
    "        plt.cla()\n",
    "        \n",
    "        for cluster in clusters:\n",
    "            mu = cluster['mu_k']\n",
    "            cov = cluster['cov_k']\n",
    "\n",
    "            eigenvalues, eigenvectors = np.linalg.eigh(cov)\n",
    "            order = eigenvalues.argsort()[::-1]\n",
    "            eigenvalues, eigenvectors = eigenvalues[order], eigenvectors[:, order]\n",
    "            vx, vy = eigenvectors[:,0][0], eigenvectors[:,0][1]\n",
    "            theta = np.arctan2(vy, vx)\n",
    "\n",
    "            color = colors.to_rgba(colorset[idx])\n",
    "\n",
    "            for cov_factor in range(1, 4):\n",
    "                ell = Ellipse(xy=mu, width=np.sqrt(eigenvalues[0]) * cov_factor * 2, height=np.sqrt(eigenvalues[1]) * cov_factor * 2, angle=np.degrees(theta), linewidth=2)\n",
    "                ell.set_facecolor((color[0], color[1], color[2], 1.0 / (cov_factor * 4.5)))\n",
    "                ax.add_artist(ell)\n",
    "\n",
    "            ax.scatter(cluster['mu_k'][0], cluster['mu_k'][1], c=colorset[idx], s=1000, marker='+')\n",
    "            idx += 1\n",
    "\n",
    "        for i in range(X.shape[0]):\n",
    "            ax.scatter(X[i, 0], X[i, 1], c=colorset[np.argmax(scores[i])], marker='o')\n",
    "        \n",
    "        fig.canvas.draw()\n",
    "        \n",
    "        image = np.frombuffer(fig.canvas.tostring_rgb(), dtype='uint8')\n",
    "        image = image.reshape(fig.canvas.get_width_height()[::-1] + (3,))\n",
    "\n",
    "        images.append(image)\n",
    "    \n",
    "    kwargs_write = {'fps':1.0, 'quantizer':'nq'}\n",
    "    imageio.mimsave('./gmm.gif', images, fps=1)\n",
    "    plt.show(Image.open('gmm.gif').convert('RGB'))\n",
    "    \n",
    "    \n",
    "create_cluster_animation(X, history, scores)"
   ]
  },
  {
   "cell_type": "code",
   "execution_count": 24,
   "metadata": {},
   "outputs": [
    {
     "name": "stdout",
     "output_type": "stream",
     "text": [
      "Means by our implementation:\n",
      " [[5.006      3.428      1.462      0.246     ]\n",
      " [5.91496959 2.77784365 4.20155323 1.29696685]\n",
      " [6.54454865 2.94866115 5.47955343 1.98460495]]\n",
      "Scores by our implementation:\n",
      " [ 1.57057947  0.73793642  1.14444614  0.92920539  1.41110417 -0.09448868\n",
      "  0.05268031  1.62449505  0.27090462  0.16702226  0.83494742  0.77171947\n",
      "  0.29597776 -1.79222469 -3.41562626 -2.1052825  -1.1300608   1.47509939\n",
      " -0.84608424  0.9770596 ]\n"
     ]
    }
   ],
   "source": [
    "print('Means by our implementation:\\n', np.array([cluster['mu_k'].tolist() for cluster in clusters]))\n",
    "print('Scores by our implementation:\\n', sample_likelihoods.reshape(-1)[0:20])"
   ]
  },
  {
   "cell_type": "code",
   "execution_count": null,
   "metadata": {},
   "outputs": [],
   "source": []
  }
 ],
 "metadata": {
  "colab": {
   "name": "HW6.ipynb",
   "provenance": []
  },
  "kernelspec": {
   "display_name": "Python 3 (ipykernel)",
   "language": "python",
   "name": "python3"
  },
  "language_info": {
   "codemirror_mode": {
    "name": "ipython",
    "version": 3
   },
   "file_extension": ".py",
   "mimetype": "text/x-python",
   "name": "python",
   "nbconvert_exporter": "python",
   "pygments_lexer": "ipython3",
   "version": "3.9.7"
  }
 },
 "nbformat": 4,
 "nbformat_minor": 1
}
