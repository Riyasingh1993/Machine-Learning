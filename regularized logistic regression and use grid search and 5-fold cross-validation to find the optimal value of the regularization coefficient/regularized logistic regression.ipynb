{
 "cells": [
  {
   "cell_type": "code",
   "execution_count": 24,
   "id": "f095d92a",
   "metadata": {},
   "outputs": [],
   "source": [
    "\n",
    "from sklearn.model_selection import train_test_split\n",
    "from sklearn.preprocessing import StandardScaler\n",
    "from sklearn.metrics import precision_recall_fscore_support as score"
   ]
  },
  {
   "cell_type": "code",
   "execution_count": 25,
   "id": "12efa2e3",
   "metadata": {},
   "outputs": [],
   "source": [
    "from sklearn.datasets import load_breast_cancer"
   ]
  },
  {
   "cell_type": "code",
   "execution_count": 26,
   "id": "670bd077",
   "metadata": {},
   "outputs": [],
   "source": [
    "import pandas as pd\n",
    "import numpy as np\n",
    "import matplotlib.pyplot as plt\n",
    "from sklearn.preprocessing import StandardScaler\n",
    "\n",
    "def transform_target(y):\n",
    "    '''\n",
    "    Transforms targets in [1, 0] format to [1, -1]\n",
    "    Input:\n",
    "        - y: Array of targets in [1, 0] form\n",
    "    Output:\n",
    "        - Array of targets in [1, -1] form\n",
    "    '''\n",
    "\n",
    "    return np.array([-1 if i == 0 else i for i in y])\n",
    "\n",
    "def calculate_step_size_start(X, lambda_penalty):\n",
    "    '''\n",
    "    Calculates and uses Lipschitz constant to estimate\n",
    "    the best starting step size for gradient descent.\n",
    "    Input:\n",
    "        - X: Feature records\n",
    "        - lambda_penalty: Lambda value for regularization\n",
    "    Output:\n",
    "        - 1 / Lipschitz constant estimate\n",
    "    '''\n",
    "\n",
    "    n = X.shape[0]\n",
    "    eigen_values, eigen_vectors = np.linalg.eigh(1/n * np.dot(X.T, X))\n",
    "    L = np.max(eigen_values) + lambda_penalty\n",
    "\n",
    "    return 1 / L\n",
    "\n",
    "def computegrad(X, y, beta, lambda_penalty):\n",
    "    '''\n",
    "    Computes the gradient of the l2 regularized logistic regression objective function at beta\n",
    "    using global X and y values from dataset.\n",
    "    Input:\n",
    "        - X: Training data\n",
    "        - y: Training targets\n",
    "        - beta: Weight Vector\n",
    "        - lambda_penalty: Regularization term\n",
    "    Output:\n",
    "        - Gracient of Regularized logistic regression objective function at beta\n",
    "    '''\n",
    "\n",
    "    n = X.shape[0]\n",
    "\n",
    "    return -1/n * np.sum(y * X.T / (1 + np.exp(y*np.dot(X, beta))), axis=1) + 2*lambda_penalty*beta\n",
    "\n",
    "def backtracking(X, y, beta, lambda_penalty, t, alpha=0.5, gamma=0.8):\n",
    "    '''\n",
    "    Perform backtracking line search.\n",
    "    Input:\n",
    "      - X: Training data\n",
    "      - y: Training targets\n",
    "      - beta: Current point\n",
    "      - lambda_penalty: Penalty value to apply in gradient of cost function\n",
    "      - t: Starting (maximum) step size\n",
    "      - alpha: Constant used to define sufficient decrease condition\n",
    "      - gamma: Rate at which we decrease t if the previous t doesn't work\n",
    "    Output:\n",
    "      - t: Step size to use\n",
    "    '''\n",
    "\n",
    "    grad_beta = computegrad(X=X, y=y, beta=beta, lambda_penalty=lambda_penalty)\n",
    "    norm_grad_beta = np.linalg.norm(grad_beta)\n",
    "\n",
    "    while (obj(X=X, y=y, beta=beta - t*grad_beta, lambda_penalty=lambda_penalty) >\\\n",
    "           obj(X=X, y=y, beta=beta, lambda_penalty=lambda_penalty) - alpha*t*norm_grad_beta**2):\n",
    "\n",
    "        t *= gamma\n",
    "\n",
    "    return t\n",
    "\n",
    "def obj(X, y, beta, lambda_penalty):\n",
    "    '''\n",
    "    Calculates the l2 regularized logistic regression objective function at beta\n",
    "       using global X and y values from dataset.\n",
    "    Input:\n",
    "        - X: Training data\n",
    "        - y: Training targets\n",
    "        - beta: Weight Vector\n",
    "        - lambda_penalty: Regularization term\n",
    "    Output:\n",
    "        - Regularized logistic regression objective function at beta\n",
    "    '''\n",
    "\n",
    "    n = X.shape[0]\n",
    "\n",
    "    return 1/n * np.sum(np.log(1 + np.exp(-y * np.dot(X, beta)))) + lambda_penalty*np.linalg.norm(beta)**2\n",
    "\n",
    "def fastgradalgo(X, y, lambda_penalty, t_init, eps=0.001, bt=0, v=0):\n",
    "    '''\n",
    "    Run gradient descent with backtracking to tune the step size.\n",
    "    Input:\n",
    "      - X: Training data\n",
    "      - y: Training targets\n",
    "      - lambda_penalty: Penalty value to apply in gradient of cost function\n",
    "      - t_init: Initial step size (a constant)\n",
    "      - eps: Value for convergence criterion for the the norm of the gradient\n",
    "      - bt: Option to use backtracking line search for step size\n",
    "      - v: Verbose param; prints objective value and norm of gradient\n",
    "    Output:\n",
    "      - theta_vals: 2D array of estimated theta's at each iteration,\n",
    "                with the most recent values in the last row\n",
    "    '''\n",
    "\n",
    "    d = X.shape[1]\n",
    "\n",
    "    beta = np.zeros(d)\n",
    "    grad_beta = computegrad(X, y, beta, lambda_penalty)\n",
    "    beta_vals = [beta]\n",
    "\n",
    "    theta = np.zeros(d)\n",
    "    grad_theta = computegrad(X, y, theta, lambda_penalty)\n",
    "    theta_vals = [theta]\n",
    "\n",
    "    i = 0\n",
    "    while np.linalg.norm(grad_beta) > eps:\n",
    "\n",
    "        if bt:\n",
    "            t = backtracking(X, y, theta, t=t_init, lambda_penalty=lambda_penalty)\n",
    "        else:\n",
    "            t = t_init\n",
    "\n",
    "        beta = theta - t*grad_theta\n",
    "        theta = beta + i/(i+3) * (beta - beta_vals[-1])\n",
    "\n",
    "        if v:\n",
    "            print('Objective at theta: {}'.format(obj(X, y, theta, lambda_penalty)))\n",
    "            print('Norm of gradient: {}'.format(np.linalg.norm(grad_theta)))\n",
    "\n",
    "        beta_vals.append(beta)\n",
    "        theta_vals.append(theta)\n",
    "\n",
    "        grad_beta = computegrad(X, y, beta, lambda_penalty)\n",
    "        grad_theta = computegrad(X, y, theta, lambda_penalty)\n",
    "        i += 1\n",
    "\n",
    "    return np.array(beta_vals)\n",
    "\n",
    "def l2_log_reg(X, y, lambda_penalty, eps=0.001, v=0):\n",
    "    '''\n",
    "    Uses Lipschitz constant estimage to calculate optimal starting step size,\n",
    "    then calls the fastgradalgo function to minimize the l2 regularized logistic\n",
    "    regression object function with the fast gradient descent method using\n",
    "    backtracking to update the step size at each iteration.  Returns the\n",
    "    regression coefficents from each iteration of gradient descent.\n",
    "    Run gradient descent with backtracking to tune the step size.\n",
    "    Input:\n",
    "      - X: Training data\n",
    "      - y: Training targets\n",
    "      - lambda_penalty: Penalty value to apply in gradient of cost function\n",
    "      - eps: Value for convergence criterion for the the norm of the gradient\n",
    "      - v: Verbose param; prints objective value and norm of gradient\n",
    "    Output:\n",
    "      - beta_vals: Estimated beta coefficents at each iteration,\n",
    "                with the most recent values last.\n",
    "    '''\n",
    "\n",
    "    t_init = calculate_step_size_start(X, lambda_penalty=lambda_penalty)\n",
    "    beta_vals = fastgradalgo(X, y, lambda_penalty, t_init, eps=eps, bt=1, v=v)\n",
    "\n",
    "    return beta_vals\n",
    "\n",
    "\n",
    "def predict(beta, X, threshold=0.5):\n",
    "    '''\n",
    "    Generates a logistic regression prediction given beta and X.\n",
    "    Input:\n",
    "        - beta: Learned weight vector\n",
    "        - X: Array of records for which to generate predictions\n",
    "        - threshold: Cut predictions such that above threshold => 1; below => -1\n",
    "    Output:\n",
    "        - Array of predictions\n",
    "    '''\n",
    "\n",
    "    scores = 1 / (1 + np.exp(-np.dot(X, beta)))\n",
    "    return np.array([1 if i > threshold else -1 for i in scores])\n",
    "\n",
    "def predict_all(beta_vals, X):\n",
    "    '''\n",
    "    Generates predictions for many beta values.\n",
    "    Input:\n",
    "        - beta_vals: Array of array of beta values\n",
    "        - X: Array of array of records for which to generate predictions\n",
    "    Output:\n",
    "        - Array of array of predictions\n",
    "    '''\n",
    "\n",
    "    return np.array([predict(beta, X) for beta in beta_vals])\n",
    "\n",
    "def error(pred, y):\n",
    "    '''\n",
    "    Calculates misclassification_error.\n",
    "    Input:\n",
    "        - pred: Array of predicted values\n",
    "        - y: Array of target values\n",
    "    Output:\n",
    "        - Mean error\n",
    "    '''\n",
    "\n",
    "    return 1 - np.mean(pred == y)\n",
    "\n",
    "def errors(pred_vals, y):\n",
    "    '''\n",
    "    Calculate missclassification error for many predictions.\n",
    "    Input:\n",
    "        - pred_vals: Array of array of predictions\n",
    "        - y: Target labels\n",
    "    Output:\n",
    "        - Array of errors for each prediction\n",
    "    '''\n",
    "\n",
    "    return np.array([error(pred, y) for pred in pred_vals])\n",
    "\n",
    "def plot_objective_values(X, y, beta_vals, lambda_penalty):\n",
    "    '''\n",
    "    Plot the convergence in terms of the function values and the gradients\n",
    "    Input:\n",
    "      - X: training data\n",
    "      - y: training targets\n",
    "      - beta_vals: Values the gradient descent algorithm stepped to\n",
    "      - lambda_penalty: Penalty value to apply in gradient of cost function\n",
    "    '''\n",
    "\n",
    "    plt.clf()\n",
    "    plt.plot([obj(X, y, val, lambda_penalty) for val in beta_vals])\n",
    "\n",
    "    plt.xlabel('Iteration')\n",
    "    plt.ylabel('Objective value')\n",
    "\n",
    "    plt.title('Function Value at Each Beta for Gradient Convergence', fontsize=16)\n",
    "    plt.show()\n",
    "\n",
    "def plot_errors(pred_vals1, pred_vals2, y1, y2, labels):\n",
    "    '''\n",
    "    Plot the misclassification error at each iteration of gradient descent\n",
    "    for two sets of predictions and targets.\n",
    "    Input:\n",
    "      - pred_vals1: Values the gradient descent algorithm stepped to\n",
    "      - pred_vals2: Values the gradient descent algorithm stepped to\n",
    "      - y1: Target labels\n",
    "      - y2: Target labels\n",
    "      - labels: Labels for each line plotted\n",
    "    '''\n",
    "\n",
    "    error1 = errors(pred_vals1, y1)\n",
    "    error2 = errors(pred_vals2, y2)\n",
    "\n",
    "    plt.clf()\n",
    "    plt.plot(error1, label=labels[0])\n",
    "    plt.plot(error2, label=labels[1])\n",
    "    plt.xlabel('Iteration')\n",
    "    plt.ylabel('Misclassification Error')\n",
    "\n",
    "    plt.title('Misclassification Error at Each Iteration of Gradient Descent', fontsize=16)\n",
    "    plt.legend(loc='best')\n",
    "    plt.show()\n",
    "\n",
    "\n",
    "def to_df_with_class(X, y):\n",
    "    '''\n",
    "    High class function that takes a2D numpy array of records X\n",
    "    and 1D array of targets y and returns a dataframe of records\n",
    "    with a column of targets called class.\n",
    "    Input:\n",
    "        -X: 2D numpy array of records\n",
    "        -y: 1D numpy array of targets\n",
    "    Output:\n",
    "        -df: Pandas dataframe of records with a column of targets called class\n",
    "    '''\n",
    "\n",
    "    df = pd.DataFrame(data=X[0:,0:],\n",
    "                      index=[i for i in range(0, X.shape[0])],\n",
    "                      columns=[str(i) for i in range(0, X.shape[1])])\n",
    "    df['class'] = y\n",
    "\n",
    "    return df\n",
    "\n",
    "def k_random_splits(df, k):\n",
    "    '''\n",
    "    Divides a dataframe into K random subsets by row\n",
    "    Input:\n",
    "        -df: Pandas dataframe to split\n",
    "        -k: Number of random splits to generate\n",
    "    Output:\n",
    "        - List of k dataframes\n",
    "    '''\n",
    "\n",
    "    df = df.sample(frac=1).reset_index(drop=True)\n",
    "\n",
    "    n = df.shape[0]\n",
    "    avg = n / k\n",
    "    dfs = []\n",
    "    last = 0.0\n",
    "\n",
    "    while last < n:\n",
    "        dfs.append(df.loc[int(last):int(last + avg),])\n",
    "        last += avg\n",
    "\n",
    "    return dfs\n",
    "\n",
    "def k_fold_crossval(X, y, lambdas=[0.001, 0.01, 0.1, 1, 10, 100, 1000], k=5, eps=0.001, v=0):\n",
    "    '''\n",
    "    For L2 Regularized Logistic Regression, computes the\n",
    "    mean test errors on each fold for k folds\n",
    "    according the the K-Fold Cross-Validation algorithm\n",
    "    given data X, targets y, and lambda values to try for each fold,\n",
    "    along with the specified k and the epsilon stopping criteria for\n",
    "    training the regression model.\n",
    "    Input:\n",
    "      - X: training data\n",
    "      - y: training targets\n",
    "      - lambdas: list of penalty values to apply in gradient of cost function\n",
    "      - k: number of folds\n",
    "      - eps: value for convergence criterion for the the norm of the gradient\n",
    "      - v: verbose param; prints objective value and norm of gradient\n",
    "    Output:\n",
    "      - mean_test_errors: list of mean misclassifciation error at each iteration\n",
    "    '''\n",
    "\n",
    "    mean_test_errors = []\n",
    "    for l in lambdas:\n",
    "\n",
    "        dfs = k_random_splits(to_df_with_class(X, y), k)\n",
    "        test_errors =[]\n",
    "        for i in range(0, k):\n",
    "\n",
    "            test_df = dfs[i]\n",
    "\n",
    "            dfs_copy = dfs.copy()\n",
    "            del dfs_copy[i]\n",
    "            train_df = pd.concat(dfs_copy)\n",
    "\n",
    "            X_train, y_train = train_df.drop('class', 1).values, train_df['class'].values\n",
    "            X_test, y_test = test_df.drop('class', 1).values, test_df['class'].values\n",
    "\n",
    "            scaler = StandardScaler()\n",
    "            X_train = scaler.fit_transform(X_train)\n",
    "            X_test = scaler.transform(X_test)\n",
    "\n",
    "            t_init = calculate_step_size_start(X_train, lambda_penalty=l)\n",
    "            betas = l2_log_reg(X, y, l, eps, v)\n",
    "\n",
    "            pred = predict(betas[-1], X_test, threshold=0.5)\n",
    "            test_error = error(pred, y_test)\n",
    "            test_errors.append(test_error)\n",
    "\n",
    "        mean_test_error = round(np.mean(test_errors), 5)\n",
    "        mean_test_errors.append(mean_test_error)\n",
    "        print('Lambda={} mean misclassification error on test sets: {}'.format(l, mean_test_error))\n",
    "\n",
    "    return mean_test_errors"
   ]
  },
  {
   "cell_type": "code",
   "execution_count": 27,
   "id": "a5239a76",
   "metadata": {},
   "outputs": [],
   "source": [
    "data = load_breast_cancer()\n",
    "X = data.data\n",
    "y = data.target\n",
    "features = data.target_names"
   ]
  },
  {
   "cell_type": "code",
   "execution_count": 28,
   "id": "404c08dd",
   "metadata": {},
   "outputs": [],
   "source": [
    "X_train, X_test, y_train, y_test = train_test_split(X, y, test_size=0.25, random_state=0)"
   ]
  },
  {
   "cell_type": "code",
   "execution_count": 29,
   "id": "c45938d9",
   "metadata": {},
   "outputs": [],
   "source": [
    "X_scaler = StandardScaler()\n",
    "X_train = X_scaler.fit_transform(X_train)\n",
    "X_test = X_scaler.transform(X_test)\n",
    "y_train = transform_target(y_train)\n",
    "y_test = transform_target(y_test)"
   ]
  },
  {
   "cell_type": "code",
   "execution_count": 30,
   "id": "7ec72709",
   "metadata": {},
   "outputs": [],
   "source": [
    "beta_vals = l2_log_reg(X_train, y_train, lambda_penalty=1.0, eps=0.001, v=0)"
   ]
  },
  {
   "cell_type": "code",
   "execution_count": 31,
   "id": "68e20a47",
   "metadata": {},
   "outputs": [
    {
     "data": {
      "image/png": "[encoded data removed]",
      "text/plain": [
       "<Figure size 720x504 with 1 Axes>"
      ]
     },
     "metadata": {
      "needs_background": "light"
     },
     "output_type": "display_data"
    }
   ],
   "source": [
    "plot_objective_values(X_train, y_train, beta_vals, lambda_penalty=1.0)"
   ]
  },
  {
   "cell_type": "code",
   "execution_count": 32,
   "id": "3217eb26",
   "metadata": {},
   "outputs": [],
   "source": [
    "train_pred_vals = predict_all(beta_vals, X_train)\n",
    "test_pred_vals = predict_all(beta_vals, X_test)"
   ]
  },
  {
   "cell_type": "code",
   "execution_count": 33,
   "id": "a6cc8ca6",
   "metadata": {},
   "outputs": [
    {
     "data": {
      "image/png": "[encoded data removed]",
      "text/plain": [
       "<Figure size 720x504 with 1 Axes>"
      ]
     },
     "metadata": {
      "needs_background": "light"
     },
     "output_type": "display_data"
    }
   ],
   "source": [
    "plot_errors(train_pred_vals, test_pred_vals, y_train, y_test, labels=['Train Set', 'Test Set'])"
   ]
  },
  {
   "attachments": {},
   "cell_type": "markdown",
   "id": "fc6af61a",
   "metadata": {},
   "source": [
    "### Five Fold Cross Validation with Regularization"
   ]
  },
  {
   "cell_type": "code",
   "execution_count": 34,
   "id": "aaa4fe42",
   "metadata": {},
   "outputs": [
    {
     "name": "stdout",
     "output_type": "stream",
     "text": [
      "Lambda=0.001 mean misclassification error on test sets: 0.0093\n",
      "Lambda=0.01 mean misclassification error on test sets: 0.01395\n",
      "Lambda=0.1 mean misclassification error on test sets: 0.02558\n",
      "Lambda=1 mean misclassification error on test sets: 0.03721\n",
      "Lambda=10 mean misclassification error on test sets: 0.05116\n",
      "Lambda=100 mean misclassification error on test sets: 0.04884\n",
      "Lambda=1000 mean misclassification error on test sets: 0.05349\n"
     ]
    }
   ],
   "source": [
    "lambdas = [0.001, 0.01, 0.1, 1, 10, 100, 1000]\n",
    "mean_test_errors = k_fold_crossval(X_train, y_train, lambdas, k=5, eps=0.001)"
   ]
  },
  {
   "cell_type": "code",
   "execution_count": 35,
   "id": "77552afd",
   "metadata": {},
   "outputs": [
    {
     "name": "stdout",
     "output_type": "stream",
     "text": [
      "Best lambda: 0.001\n"
     ]
    }
   ],
   "source": [
    "best_lambda = lambdas[np.argmin(mean_test_errors)]\n",
    "print('Best lambda: {}'.format(best_lambda))"
   ]
  },
  {
   "cell_type": "code",
   "execution_count": 36,
   "id": "6171b6f1",
   "metadata": {},
   "outputs": [],
   "source": [
    "beta_vals = l2_log_reg(X_train, y_train, lambda_penalty=best_lambda, eps=0.001, v=0)"
   ]
  },
  {
   "cell_type": "code",
   "execution_count": 37,
   "id": "2b4f8568",
   "metadata": {},
   "outputs": [],
   "source": [
    "train_pred_vals = predict_all(beta_vals, X_train)\n",
    "test_pred_vals = predict_all(beta_vals, X_test)"
   ]
  },
  {
   "cell_type": "code",
   "execution_count": 38,
   "id": "39cdd8e6",
   "metadata": {},
   "outputs": [
    {
     "data": {
      "image/png": "[encoded data removed]",
      "text/plain": [
       "<Figure size 720x504 with 1 Axes>"
      ]
     },
     "metadata": {
      "needs_background": "light"
     },
     "output_type": "display_data"
    }
   ],
   "source": [
    "plot_errors(train_pred_vals, test_pred_vals, y_train, y_test, labels=['Train Set', 'Test Set'])"
   ]
  },
  {
   "cell_type": "code",
   "execution_count": 39,
   "id": "3f1b3f08",
   "metadata": {},
   "outputs": [
    {
     "data": {
      "text/html": [
       "<div>\n",
       "<style scoped>\n",
       "    .dataframe tbody tr th:only-of-type {\n",
       "        vertical-align: middle;\n",
       "    }\n",
       "\n",
       "    .dataframe tbody tr th {\n",
       "        vertical-align: top;\n",
       "    }\n",
       "\n",
       "    .dataframe thead th {\n",
       "        text-align: right;\n",
       "    }\n",
       "</style>\n",
       "<table border=\"1\" class=\"dataframe\">\n",
       "  <thead>\n",
       "    <tr style=\"text-align: right;\">\n",
       "      <th></th>\n",
       "      <th>Class</th>\n",
       "      <th>TrainPrecision</th>\n",
       "      <th>TrainRecall</th>\n",
       "      <th>ValidationPrecision</th>\n",
       "      <th>ValidationRecall</th>\n",
       "    </tr>\n",
       "  </thead>\n",
       "  <tbody>\n",
       "    <tr>\n",
       "      <th>0</th>\n",
       "      <td>0</td>\n",
       "      <td>1.00000</td>\n",
       "      <td>0.974843</td>\n",
       "      <td>0.943396</td>\n",
       "      <td>0.943396</td>\n",
       "    </tr>\n",
       "    <tr>\n",
       "      <th>1</th>\n",
       "      <td>1</td>\n",
       "      <td>0.98524</td>\n",
       "      <td>1.000000</td>\n",
       "      <td>0.966667</td>\n",
       "      <td>0.966667</td>\n",
       "    </tr>\n",
       "  </tbody>\n",
       "</table>\n",
       "</div>"
      ],
      "text/plain": [
       "   Class  TrainPrecision  TrainRecall  ValidationPrecision  ValidationRecall\n",
       "0      0         1.00000     0.974843             0.943396          0.943396\n",
       "1      1         0.98524     1.000000             0.966667          0.966667"
      ]
     },
     "execution_count": 39,
     "metadata": {},
     "output_type": "execute_result"
    }
   ],
   "source": [
    "train_precision, train_recall, train_fscore, train_support = score(y_train, train_pred_vals[-1])\n",
    "val_precision, val_recall, val_fscore, val_support = score(y_test, test_pred_vals[-1])\n",
    "\n",
    "pr_df = pd.DataFrame({'Class': list(range(0, 2)),\n",
    "                      'TrainPrecision': train_precision,\n",
    "                      'TrainRecall': train_recall,\n",
    "                      'ValidationPrecision': val_precision,\n",
    "                      'ValidationRecall': val_recall})\n",
    "pr_df"
   ]
  },
  {
   "cell_type": "code",
   "execution_count": 40,
   "id": "3343a299",
   "metadata": {},
   "outputs": [
    {
     "data": {
      "text/plain": [
       "0.04195804195804198"
      ]
     },
     "execution_count": 40,
     "metadata": {},
     "output_type": "execute_result"
    }
   ],
   "source": [
    "my_preds = predict(beta_vals[-1], X_test, threshold=0.5)\n",
    "error(my_preds, y_test)"
   ]
  },
  {
   "attachments": {},
   "cell_type": "markdown",
   "id": "a5da418b",
   "metadata": {},
   "source": [
    "### Confusion Matrix"
   ]
  },
  {
   "cell_type": "code",
   "execution_count": 41,
   "id": "e034bdb2",
   "metadata": {
    "scrolled": true
   },
   "outputs": [
    {
     "name": "stdout",
     "output_type": "stream",
     "text": [
      "Normalized confusion matrix\n",
      "[[0.94339623 0.05660377]\n",
      " [0.03333333 0.96666667]]\n"
     ]
    },
    {
     "data": {
      "image/png": "[encoded data removed]",
      "text/plain": [
       "<Figure size 720x504 with 2 Axes>"
      ]
     },
     "metadata": {
      "needs_background": "light"
     },
     "output_type": "display_data"
    }
   ],
   "source": [
    "import numpy as np\n",
    "import matplotlib.pyplot as plt\n",
    "\n",
    "# Plot confusion matrix\n",
    "from sklearn.metrics import confusion_matrix\n",
    "import itertools\n",
    "plt.rcParams['figure.figsize'] = [10,7]\n",
    "\n",
    "def plot_confusion_matrix(cm, classes,\n",
    "                          normalize=True,\n",
    "                          title='Confusion matrix',\n",
    "                          cmap=plt.cm.Blues):\n",
    "\n",
    "  if normalize:\n",
    "      cm = cm.astype('float') / cm.sum(axis=1)[:, np.newaxis]\n",
    "      print(\"Normalized confusion matrix\")\n",
    "  else:\n",
    "      print('Confusion matrix, without normalization')\n",
    "\n",
    "  print(cm)\n",
    "\n",
    "  plt.imshow(cm, interpolation='nearest', cmap=cmap)\n",
    "  plt.title(title)\n",
    "  plt.colorbar()\n",
    "  tick_marks = np.arange(len(classes))\n",
    "  plt.xticks(tick_marks, classes, rotation=45)\n",
    "  plt.yticks(tick_marks, classes)\n",
    "\n",
    "  fmt = '.2f' if normalize else 'd'\n",
    "  thresh = cm.max() / 2.\n",
    "  for i, j in itertools.product(range(cm.shape[0]), range(cm.shape[1])):\n",
    "      plt.text(j, i, format(cm[i, j], fmt),\n",
    "               horizontalalignment=\"center\",\n",
    "               color=\"white\" if cm[i, j] > thresh else \"black\")\n",
    "\n",
    "  plt.tight_layout()\n",
    "  plt.ylabel('True label')\n",
    "  plt.xlabel('Predicted label')\n",
    "  plt.show()\n",
    "    \n",
    "my_preds = predict(beta_vals[-1], X_test, threshold=0.5)   \n",
    "cm = confusion_matrix(y_test, my_preds)\n",
    "plot_confusion_matrix(cm, list(range(2))) "
   ]
  },
  {
   "attachments": {},
   "cell_type": "markdown",
   "id": "be35c001",
   "metadata": {},
   "source": [
    "### Comparison with scikit-learn"
   ]
  },
  {
   "cell_type": "code",
   "execution_count": 43,
   "id": "ce9743f9",
   "metadata": {},
   "outputs": [
    {
     "name": "stdout",
     "output_type": "stream",
     "text": [
      "Best C: 5\n",
      "Best lambda: 0.0002347417840375587\n"
     ]
    }
   ],
   "source": [
    "from sklearn.model_selection import train_test_split, GridSearchCV\n",
    "from sklearn.linear_model import LogisticRegression\n",
    "estimator = LogisticRegression(penalty='l2', solver='liblinear')\n",
    "param_grid = {'C': [0.001, 0.005, 0.01, 0.05, 0.1, 0.5, 1, 5, 10, 50, 100, 500, 1000]}\n",
    "\n",
    "clf = GridSearchCV(estimator=estimator, cv=5, param_grid=param_grid)\n",
    "clf = clf.fit(X, y)\n",
    "\n",
    "results = clf.cv_results_\n",
    "best_run = np.argmax(results['mean_test_score'])\n",
    "best_c = results['params'][best_run]['C']\n",
    "best_lambda = 1/best_c * 1/len(y_train) * 1/2\n",
    "print('Best C: {}'.format(best_c))\n",
    "print('Best lambda: {}'.format(best_lambda))"
   ]
  },
  {
   "cell_type": "code",
   "execution_count": 44,
   "id": "8d77468e",
   "metadata": {},
   "outputs": [],
   "source": [
    "clf = LogisticRegression(penalty='l2', solver='liblinear', C=best_c, tol=0.001)\n",
    "clf = clf.fit(X_train, y_train)"
   ]
  },
  {
   "cell_type": "code",
   "execution_count": 45,
   "id": "83d4076f",
   "metadata": {},
   "outputs": [
    {
     "data": {
      "text/plain": [
       "0.04895104895104896"
      ]
     },
     "execution_count": 45,
     "metadata": {},
     "output_type": "execute_result"
    }
   ],
   "source": [
    "sklearn_preds = clf.predict(X_test)\n",
    "error(sklearn_preds, y_test)"
   ]
  },
  {
   "cell_type": "code",
   "execution_count": null,
   "id": "d707b46e",
   "metadata": {},
   "outputs": [],
   "source": []
  }
 ],
 "metadata": {
  "kernelspec": {
   "display_name": "Python 3 (ipykernel)",
   "language": "python",
   "name": "python3"
  },
  "language_info": {
   "codemirror_mode": {
    "name": "ipython",
    "version": 3
   },
   "file_extension": ".py",
   "mimetype": "text/x-python",
   "name": "python",
   "nbconvert_exporter": "python",
   "pygments_lexer": "ipython3",
   "version": "3.9.7"
  }
 },
 "nbformat": 4,
 "nbformat_minor": 5
}
